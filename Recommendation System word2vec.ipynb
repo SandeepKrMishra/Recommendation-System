{
 "cells": [
  {
   "cell_type": "markdown",
   "metadata": {},
   "source": [
    "### Dataset Download link : https://archive.ics.uci.edu/ml/machine-learning-databases/00352/"
   ]
  },
  {
   "cell_type": "code",
   "execution_count": 2,
   "metadata": {},
   "outputs": [],
   "source": [
    "import pandas as pd\n",
    "import numpy as np\n",
    "import random\n",
    "from tqdm import tqdm\n",
    "from gensim.models import Word2Vec \n",
    "import matplotlib.pyplot as plt\n",
    "%matplotlib inline\n",
    "\n",
    "import warnings;\n",
    "warnings.filterwarnings('ignore')"
   ]
  },
  {
   "cell_type": "code",
   "execution_count": 4,
   "metadata": {},
   "outputs": [],
   "source": [
    "df = pd.read_excel(r'C:\\Users\\Sandeep\\Downloads\\insights\\Datasheet\\graph_assignmnet\\Online Retail.xlsx')"
   ]
  },
  {
   "cell_type": "code",
   "execution_count": 5,
   "metadata": {},
   "outputs": [
    {
     "data": {
      "text/html": [
       "<div>\n",
       "<style scoped>\n",
       "    .dataframe tbody tr th:only-of-type {\n",
       "        vertical-align: middle;\n",
       "    }\n",
       "\n",
       "    .dataframe tbody tr th {\n",
       "        vertical-align: top;\n",
       "    }\n",
       "\n",
       "    .dataframe thead th {\n",
       "        text-align: right;\n",
       "    }\n",
       "</style>\n",
       "<table border=\"1\" class=\"dataframe\">\n",
       "  <thead>\n",
       "    <tr style=\"text-align: right;\">\n",
       "      <th></th>\n",
       "      <th>InvoiceNo</th>\n",
       "      <th>StockCode</th>\n",
       "      <th>Description</th>\n",
       "      <th>Quantity</th>\n",
       "      <th>InvoiceDate</th>\n",
       "      <th>UnitPrice</th>\n",
       "      <th>CustomerID</th>\n",
       "      <th>Country</th>\n",
       "    </tr>\n",
       "  </thead>\n",
       "  <tbody>\n",
       "    <tr>\n",
       "      <th>0</th>\n",
       "      <td>536365</td>\n",
       "      <td>85123A</td>\n",
       "      <td>WHITE HANGING HEART T-LIGHT HOLDER</td>\n",
       "      <td>6</td>\n",
       "      <td>2010-12-01 08:26:00</td>\n",
       "      <td>2.55</td>\n",
       "      <td>17850.0</td>\n",
       "      <td>United Kingdom</td>\n",
       "    </tr>\n",
       "    <tr>\n",
       "      <th>1</th>\n",
       "      <td>536365</td>\n",
       "      <td>71053</td>\n",
       "      <td>WHITE METAL LANTERN</td>\n",
       "      <td>6</td>\n",
       "      <td>2010-12-01 08:26:00</td>\n",
       "      <td>3.39</td>\n",
       "      <td>17850.0</td>\n",
       "      <td>United Kingdom</td>\n",
       "    </tr>\n",
       "    <tr>\n",
       "      <th>2</th>\n",
       "      <td>536365</td>\n",
       "      <td>84406B</td>\n",
       "      <td>CREAM CUPID HEARTS COAT HANGER</td>\n",
       "      <td>8</td>\n",
       "      <td>2010-12-01 08:26:00</td>\n",
       "      <td>2.75</td>\n",
       "      <td>17850.0</td>\n",
       "      <td>United Kingdom</td>\n",
       "    </tr>\n",
       "    <tr>\n",
       "      <th>3</th>\n",
       "      <td>536365</td>\n",
       "      <td>84029G</td>\n",
       "      <td>KNITTED UNION FLAG HOT WATER BOTTLE</td>\n",
       "      <td>6</td>\n",
       "      <td>2010-12-01 08:26:00</td>\n",
       "      <td>3.39</td>\n",
       "      <td>17850.0</td>\n",
       "      <td>United Kingdom</td>\n",
       "    </tr>\n",
       "    <tr>\n",
       "      <th>4</th>\n",
       "      <td>536365</td>\n",
       "      <td>84029E</td>\n",
       "      <td>RED WOOLLY HOTTIE WHITE HEART.</td>\n",
       "      <td>6</td>\n",
       "      <td>2010-12-01 08:26:00</td>\n",
       "      <td>3.39</td>\n",
       "      <td>17850.0</td>\n",
       "      <td>United Kingdom</td>\n",
       "    </tr>\n",
       "  </tbody>\n",
       "</table>\n",
       "</div>"
      ],
      "text/plain": [
       "  InvoiceNo StockCode                          Description  Quantity  \\\n",
       "0    536365    85123A   WHITE HANGING HEART T-LIGHT HOLDER         6   \n",
       "1    536365     71053                  WHITE METAL LANTERN         6   \n",
       "2    536365    84406B       CREAM CUPID HEARTS COAT HANGER         8   \n",
       "3    536365    84029G  KNITTED UNION FLAG HOT WATER BOTTLE         6   \n",
       "4    536365    84029E       RED WOOLLY HOTTIE WHITE HEART.         6   \n",
       "\n",
       "          InvoiceDate  UnitPrice  CustomerID         Country  \n",
       "0 2010-12-01 08:26:00       2.55     17850.0  United Kingdom  \n",
       "1 2010-12-01 08:26:00       3.39     17850.0  United Kingdom  \n",
       "2 2010-12-01 08:26:00       2.75     17850.0  United Kingdom  \n",
       "3 2010-12-01 08:26:00       3.39     17850.0  United Kingdom  \n",
       "4 2010-12-01 08:26:00       3.39     17850.0  United Kingdom  "
      ]
     },
     "execution_count": 5,
     "metadata": {},
     "output_type": "execute_result"
    }
   ],
   "source": [
    "df = df.head(1000).copy()\n",
    "df.head()"
   ]
  },
  {
   "cell_type": "code",
   "execution_count": 6,
   "metadata": {},
   "outputs": [
    {
     "data": {
      "text/plain": [
       "InvoiceNo      999\n",
       "StockCode      999\n",
       "Description    999\n",
       "Quantity       999\n",
       "InvoiceDate    999\n",
       "UnitPrice      999\n",
       "CustomerID     999\n",
       "Country        999\n",
       "dtype: int64"
      ]
     },
     "execution_count": 6,
     "metadata": {},
     "output_type": "execute_result"
    }
   ],
   "source": [
    "df.count()\n",
    "# remove missing values\n",
    "df.dropna(inplace=True)\n",
    "# again check missing values\n",
    "df.isnull().sum()\n",
    "df.count()"
   ]
  },
  {
   "cell_type": "code",
   "execution_count": 7,
   "metadata": {},
   "outputs": [
    {
     "data": {
      "text/plain": [
       "InvoiceNo              object\n",
       "StockCode              object\n",
       "Description            object\n",
       "Quantity                int64\n",
       "InvoiceDate    datetime64[ns]\n",
       "UnitPrice             float64\n",
       "CustomerID            float64\n",
       "Country                object\n",
       "dtype: object"
      ]
     },
     "execution_count": 7,
     "metadata": {},
     "output_type": "execute_result"
    }
   ],
   "source": [
    "df.dtypes"
   ]
  },
  {
   "cell_type": "markdown",
   "metadata": {},
   "source": [
    "Given below is the description of the fields in this dataset:\n",
    "\n",
    "InvoiceNo: Invoice number, a unique number assigned to each transaction.\n",
    "\n",
    "StockCode: Product/item code. a unique number assigned to each distinct product.\n",
    "\n",
    "Description: Product description\n",
    "\n",
    "Quantity: The quantities of each product per transaction.\n",
    "\n",
    "InvoiceDate: Invoice Date and time. The day and time when each transaction was generated.\n",
    "\n",
    "CustomerID: Customer number, a unique number assigned to each customer."
   ]
  },
  {
   "cell_type": "code",
   "execution_count": 8,
   "metadata": {},
   "outputs": [],
   "source": [
    "df['StockCode']= df['StockCode'].astype(str)"
   ]
  },
  {
   "cell_type": "code",
   "execution_count": 9,
   "metadata": {},
   "outputs": [
    {
     "data": {
      "text/plain": [
       "48"
      ]
     },
     "execution_count": 9,
     "metadata": {},
     "output_type": "execute_result"
    }
   ],
   "source": [
    "customers = df[\"CustomerID\"].unique().tolist()\n",
    "len(customers)"
   ]
  },
  {
   "cell_type": "code",
   "execution_count": 10,
   "metadata": {},
   "outputs": [],
   "source": [
    "\"\"\"\n",
    "There are 48 customers in our dataset. For each of these customers we will extract their buying history. \n",
    "In other words, we can have 48 sequences of purchases.\n",
    "\n",
    "It is a good practice to set aside a small part of the dataset for validation purpose. \n",
    "Therefore, I will use data of 90% of the customers to create word2vec embeddings. Let's split the data.\n",
    "\"\"\"\n",
    "\n",
    "\n",
    "random.shuffle(customers)\n",
    "\n",
    "# extract 90% of customer ID's\n",
    "customers_train = [customers[i] for i in range(round(0.9*len(customers)))]\n",
    "\n",
    "# split data into train and validation set\n",
    "train_df = df[df['CustomerID'].isin(customers_train)]\n",
    "validation_df = df[~df['CustomerID'].isin(customers_train)]"
   ]
  },
  {
   "cell_type": "code",
   "execution_count": 31,
   "metadata": {},
   "outputs": [
    {
     "name": "stderr",
     "output_type": "stream",
     "text": [
      "100%|████████████████████████████████████████████████████████████████████████████████| 48/48 [00:00<00:00, 1234.14it/s]\n",
      "100%|██████████████████████████████████████████████████████████████████████████████████| 5/5 [00:00<00:00, 1253.00it/s]\n"
     ]
    }
   ],
   "source": [
    "\"\"\"\n",
    "Let's create sequences of purchases made by the customers in the dataset for both the train and validation set.\n",
    "\"\"\"\n",
    "\n",
    "\n",
    "# list to capture purchase history of the customers\n",
    "purchases_train = []\n",
    "\n",
    "# populate the list with the product codes\n",
    "#for i in tqdm(customers_train):\n",
    "#    temp = train_df[train_df[\"CustomerID\"] == i][\"StockCode\"].tolist()\n",
    "#    purchases_train.append(temp)\n",
    "for i in tqdm(df['CustomerID'].unique()):\n",
    "    temp = df[df[\"CustomerID\"] == i][\"StockCode\"].tolist()\n",
    "    purchases_train.append(temp)\n",
    "    \n",
    "\n",
    "# list to capture purchase history of the customers\n",
    "purchases_val = []\n",
    "\n",
    "# populate the list with the product codes\n",
    "for i in tqdm(validation_df['CustomerID'].unique()):\n",
    "    temp = validation_df[validation_df[\"CustomerID\"] == i][\"StockCode\"].tolist()\n",
    "    purchases_val.append(temp)"
   ]
  },
  {
   "cell_type": "markdown",
   "metadata": {},
   "source": [
    "## Build word2vec Embeddings for Products"
   ]
  },
  {
   "cell_type": "code",
   "execution_count": 32,
   "metadata": {},
   "outputs": [
    {
     "data": {
      "text/plain": [
       "(391, 9990)"
      ]
     },
     "execution_count": 32,
     "metadata": {},
     "output_type": "execute_result"
    }
   ],
   "source": [
    "# train word2vec model\n",
    "model = Word2Vec(window = 10, sg = 1, hs = 0,\n",
    "                 negative = 10, # for negative sampling\n",
    "                 alpha=0.03, min_alpha=0.0007,\n",
    "                 seed = 14)\n",
    "\n",
    "model.build_vocab(purchases_train, progress_per=200)\n",
    "\n",
    "model.train(purchases_train, total_examples = model.corpus_count, \n",
    "            epochs=10, report_delay=1)"
   ]
  },
  {
   "cell_type": "code",
   "execution_count": 33,
   "metadata": {},
   "outputs": [
    {
     "data": {
      "text/plain": [
       "(30, 100)"
      ]
     },
     "execution_count": 33,
     "metadata": {},
     "output_type": "execute_result"
    }
   ],
   "source": [
    "# save word2vec model\n",
    "model.save(r\"C:\\Users\\Sandeep\\Downloads\\insights\\Datasheet\\graph_assignmnet\\word2vec_2.model\")\n",
    "\n",
    "\"\"\"\n",
    "As we do not plan to train the model any further, we are calling init_sims(), \n",
    "which will make the model much more memory-efficient.\n",
    "\"\"\"\n",
    "\n",
    "model.init_sims(replace=True)\n",
    "\n",
    "\"\"\"\n",
    "Now we will extract the vectors of all the words in our vocabulary and store it in one place for easy access.\n",
    "\"\"\"\n",
    "\n",
    "# extract all vectors\n",
    "X = model[model.wv.vocab]\n",
    "\n",
    "X.shape\n"
   ]
  },
  {
   "cell_type": "markdown",
   "metadata": {},
   "source": [
    "## Visualize word2vec Embeddings\n",
    "It is always quite helpful to visualize the embeddings that you have created. Over here we have 100 dimensional embeddings. We can't even visualize 4 dimensions let alone 100. Therefore, we are going to reduce the dimensions of the product embeddings from 100 to 2 by using the UMAP algorithm, it is used for dimensionality reduction."
   ]
  },
  {
   "cell_type": "code",
   "execution_count": 31,
   "metadata": {},
   "outputs": [
    {
     "ename": "ModuleNotFoundError",
     "evalue": "No module named 'umap'",
     "output_type": "error",
     "traceback": [
      "\u001b[1;31m---------------------------------------------------------------------------\u001b[0m",
      "\u001b[1;31mModuleNotFoundError\u001b[0m                       Traceback (most recent call last)",
      "\u001b[1;32m<ipython-input-31-4a4aa08bc4e0>\u001b[0m in \u001b[0;36m<module>\u001b[1;34m\u001b[0m\n\u001b[1;32m----> 1\u001b[1;33m \u001b[1;32mimport\u001b[0m \u001b[0mumap\u001b[0m\u001b[1;33m\u001b[0m\u001b[1;33m\u001b[0m\u001b[0m\n\u001b[0m\u001b[0;32m      2\u001b[0m \u001b[1;33m\u001b[0m\u001b[0m\n\u001b[0;32m      3\u001b[0m \"\"\"\n\u001b[0;32m      4\u001b[0m \u001b[0mEvery\u001b[0m \u001b[0mdot\u001b[0m \u001b[1;32min\u001b[0m \u001b[0mthis\u001b[0m \u001b[0mplot\u001b[0m \u001b[1;32mis\u001b[0m \u001b[0ma\u001b[0m \u001b[0mproduct\u001b[0m\u001b[1;33m.\u001b[0m \u001b[0mAs\u001b[0m \u001b[0myou\u001b[0m \u001b[0mcan\u001b[0m \u001b[0msee\u001b[0m\u001b[1;33m,\u001b[0m \u001b[0mthere\u001b[0m \u001b[0mare\u001b[0m \u001b[0mseveral\u001b[0m \u001b[0mtiny\u001b[0m \u001b[0mclusters\u001b[0m \u001b[0mof\u001b[0m \u001b[0mthese\u001b[0m \u001b[0mdatapoints\u001b[0m\u001b[1;33m.\u001b[0m\u001b[1;33m\u001b[0m\u001b[1;33m\u001b[0m\u001b[0m\n\u001b[0;32m      5\u001b[0m \u001b[0mThese\u001b[0m \u001b[0mare\u001b[0m \u001b[0mgroups\u001b[0m \u001b[0mof\u001b[0m \u001b[0msimilar\u001b[0m \u001b[0mproducts\u001b[0m\u001b[1;33m.\u001b[0m\u001b[1;33m\u001b[0m\u001b[1;33m\u001b[0m\u001b[0m\n",
      "\u001b[1;31mModuleNotFoundError\u001b[0m: No module named 'umap'"
     ]
    }
   ],
   "source": [
    "import umap\n",
    "\n",
    "\"\"\"\n",
    "Every dot in this plot is a product. As you can see, there are several tiny clusters of these datapoints. \n",
    "These are groups of similar products.\n",
    "\"\"\"\n",
    "\n",
    "cluster_embedding = umap.UMAP(n_neighbors=30, min_dist=0.0,\n",
    "                              n_components=2, random_state=42).fit_transform(X)\n",
    "\n",
    "plt.figure(figsize=(10,9))\n",
    "plt.scatter(cluster_embedding[:, 0], cluster_embedding[:, 1], s=3, cmap='Spectral')"
   ]
  },
  {
   "cell_type": "markdown",
   "metadata": {},
   "source": [
    "### Start Recommending Products\n",
    "We are finally ready with the word2vec embeddings for every product in our online retail dataset. Now our next step is to suggest similar products for a certain product or a product's vector.\n",
    "\n",
    "Let's first create a product-ID and product-description dictionary to easily map a product's description to its ID and vice versa."
   ]
  },
  {
   "cell_type": "code",
   "execution_count": 34,
   "metadata": {},
   "outputs": [],
   "source": [
    "\n",
    "products = train_df[[\"StockCode\", \"Description\"]]\n",
    "\n",
    "# remove duplicates\n",
    "products.drop_duplicates(inplace=True, subset='StockCode', keep=\"last\")\n",
    "\n",
    "# create product-ID and product-description dictionary\n",
    "products_dict = products.groupby('StockCode')['Description'].apply(list).to_dict()"
   ]
  },
  {
   "cell_type": "code",
   "execution_count": 35,
   "metadata": {},
   "outputs": [],
   "source": [
    "\"\"\"\n",
    "I have defined the function below. It will take a product's vector (n) as input and return top 6 similar products.\n",
    "\"\"\"  \n",
    "def similar_products(v, n = 6):\n",
    "    \n",
    "    # extract most similar products for the input vector\n",
    "    ms = model.similar_by_vector(v, topn= n+1)[1:]\n",
    "    \n",
    "    # extract name and similarity score of the similar products\n",
    "    new_ms = []\n",
    "    for j in ms:\n",
    "        pair = (products_dict[j[0]][0], j[1])\n",
    "        new_ms.append(pair)\n",
    "        \n",
    "    return new_ms\n"
   ]
  },
  {
   "cell_type": "code",
   "execution_count": 36,
   "metadata": {},
   "outputs": [
    {
     "data": {
      "text/plain": [
       "[('HAND WARMER RED RETROSPOT', 0.9717410206794739),\n",
       " ('CREAM CUPID HEARTS COAT HANGER', 0.9685423374176025),\n",
       " ('GLASS STAR FROSTED T-LIGHT HOLDER', 0.9674575328826904),\n",
       " ('HAND WARMER UNION JACK', 0.9666388034820557),\n",
       " ('WOOD 2 DRAWER CABINET WHITE FINISH', 0.9660594463348389),\n",
       " ('SET 7 BABUSHKA NESTING BOXES', 0.9651550054550171)]"
      ]
     },
     "execution_count": 36,
     "metadata": {},
     "output_type": "execute_result"
    }
   ],
   "source": [
    "\"\"\"\n",
    "Let's try out our function by passing the vector of the product '90019A' ('SILVER M.O.P ORBIT BRACELET')\n",
    "\"\"\"\n",
    "similar_products(model['84029E'])"
   ]
  },
  {
   "cell_type": "markdown",
   "metadata": {},
   "source": [
    "The results are pretty relevant and match well with the input product. However, this output is based on the vector of a single product only. What if we want recommend a user products based on the multiple purchases he or she has made in the past?\n",
    "\n",
    "One simple solution is to take average of all the vectors of the products he has bought so far and use this resultant vector to find similar products. For that we will use the function below that takes in a list of product ID's and gives out a 100 dimensional vector which is mean of vectors of the products in the input list."
   ]
  },
  {
   "cell_type": "code",
   "execution_count": 40,
   "metadata": {},
   "outputs": [],
   "source": [
    "def aggregate_vectors(products):\n",
    "    product_vec = []\n",
    "    for i in products:\n",
    "        try:\n",
    "            product_vec.append(model[i])\n",
    "        except KeyError:\n",
    "            continue\n",
    "        \n",
    "    return np.mean(product_vec, axis=0)"
   ]
  },
  {
   "cell_type": "code",
   "execution_count": 43,
   "metadata": {},
   "outputs": [
    {
     "name": "stdout",
     "output_type": "stream",
     "text": [
      "36\n"
     ]
    },
    {
     "data": {
      "text/plain": [
       "array([ 4.38031666e-02, -1.19983725e-01, -1.86378837e-01,  7.46328011e-02,\n",
       "       -3.35168652e-02, -1.45835683e-01,  1.41741812e-01,  1.16578385e-03,\n",
       "        4.30516750e-02,  2.48693489e-02, -2.19099019e-02, -1.50209880e-02,\n",
       "       -6.42041340e-02, -4.05459329e-02,  3.54500934e-02,  5.31403907e-02,\n",
       "       -6.42102724e-03, -1.56977415e-01,  6.34618476e-03, -1.16675109e-01,\n",
       "       -1.39781073e-01, -1.97998762e-01, -1.39875755e-01, -9.93316770e-02,\n",
       "       -1.34498760e-01, -2.00708192e-02,  9.52979773e-02, -6.84636980e-02,\n",
       "        1.27677232e-01,  1.77807529e-02,  1.06743813e-01,  3.61849070e-02,\n",
       "        8.98967609e-02,  7.17727169e-02, -2.74946485e-02,  6.01998679e-02,\n",
       "       -4.97389957e-02, -1.71536788e-01, -1.31503910e-01, -4.29148600e-03,\n",
       "        1.42551467e-01,  1.35250762e-02,  1.49260208e-01, -7.79090002e-02,\n",
       "       -1.50304049e-01,  8.33107680e-02,  2.25453638e-02,  7.28518739e-02,\n",
       "       -1.45008475e-01, -8.78585801e-02,  2.86152046e-02, -3.85268778e-02,\n",
       "       -6.13695662e-03,  8.46595913e-02,  1.08479731e-01,  6.34895638e-02,\n",
       "       -4.22570184e-02, -1.21320397e-01,  2.41701934e-03, -9.66440663e-02,\n",
       "        9.64094028e-02,  1.11785382e-01, -1.61070786e-02,  8.12066719e-02,\n",
       "        1.44460589e-01,  5.74907754e-03,  5.60612865e-02,  1.80975780e-01,\n",
       "        1.58158928e-01, -6.36440441e-02, -3.20954750e-05,  1.68716423e-02,\n",
       "       -9.47654992e-02, -4.89605293e-02,  1.43702045e-01, -2.08663598e-01,\n",
       "        6.58197775e-02, -1.94821000e-01, -2.81518511e-02,  1.09562092e-01,\n",
       "       -4.49519642e-02,  1.15341067e-01,  4.69121449e-02,  1.28876135e-01,\n",
       "       -1.92643248e-03, -3.95821333e-02,  1.35520309e-01,  2.46872827e-02,\n",
       "       -1.64094269e-01,  2.97198799e-02,  9.02164541e-03,  4.88848798e-02,\n",
       "        3.02705258e-01, -6.24527372e-02,  1.66835248e-01,  9.53027904e-02,\n",
       "        4.11238195e-03, -6.69215173e-02,  2.41239183e-02, -3.03393062e-02],\n",
       "      dtype=float32)"
      ]
     },
     "execution_count": 43,
     "metadata": {},
     "output_type": "execute_result"
    }
   ],
   "source": [
    "#If you can recall, we have already created a separate list of purchase sequences for validation purpose. Now let's make use of that.\n",
    "\n",
    "print(len(purchases_val[1]))\n",
    "\n",
    "#The length of the first list of products purchased by a user is 314. We will pass this products' sequence of the validation set to the function aggregate_vectors.\n",
    "\n",
    "aggregate_vectors(purchases_val[1])"
   ]
  },
  {
   "cell_type": "markdown",
   "metadata": {},
   "source": [
    "\n",
    "Well, the function has returned an array of 100 dimension. It means the function is working fine. Now we can use this result to get the most similar products. Let's do it."
   ]
  },
  {
   "cell_type": "code",
   "execution_count": 47,
   "metadata": {},
   "outputs": [
    {
     "data": {
      "text/plain": [
       "[('HAND WARMER UNION JACK', 0.8543800115585327),\n",
       " ('FELTCRAFT PRINCESS CHARLOTTE DOLL', 0.8510119318962097),\n",
       " ('WOODEN FRAME ANTIQUE WHITE ', 0.8506502509117126),\n",
       " ('GLASS STAR FROSTED T-LIGHT HOLDER', 0.8495323657989502),\n",
       " ('WOOD 2 DRAWER CABINET WHITE FINISH', 0.844433069229126),\n",
       " ('HAND WARMER RED RETROSPOT', 0.8442841172218323)]"
      ]
     },
     "execution_count": 47,
     "metadata": {},
     "output_type": "execute_result"
    }
   ],
   "source": [
    "similar_products(aggregate_vectors(purchases_val[1]))"
   ]
  },
  {
   "cell_type": "code",
   "execution_count": 48,
   "metadata": {},
   "outputs": [
    {
     "data": {
      "text/plain": [
       "[('HAND WARMER UNION JACK', 0.8543800115585327),\n",
       " ('FELTCRAFT PRINCESS CHARLOTTE DOLL', 0.8510119318962097),\n",
       " ('WOODEN FRAME ANTIQUE WHITE ', 0.8506502509117126),\n",
       " ('GLASS STAR FROSTED T-LIGHT HOLDER', 0.8495323657989502),\n",
       " ('WOOD 2 DRAWER CABINET WHITE FINISH', 0.844433069229126),\n",
       " ('HAND WARMER RED RETROSPOT', 0.8442841172218323)]"
      ]
     },
     "execution_count": 48,
     "metadata": {},
     "output_type": "execute_result"
    }
   ],
   "source": [
    "\"\"\"\n",
    "As it turns out, our system has recommended 6 products based on the entire purchase history of a user. Moreover,\n",
    "if you want to get products suggestions based on the last few purchases only then also you can use the same set of functions.\n",
    "\n",
    "Below I am giving only the last 10 products purchased as input.\n",
    "\"\"\"\n",
    "similar_products(aggregate_vectors(purchases_val[0][-10:]))"
   ]
  },
  {
   "cell_type": "markdown",
   "metadata": {},
   "source": [
    "Reference : https://www.analyticsvidhya.com/blog/2019/07/how-to-build-recommendation-system-word2vec-python/?utm_source=blog&utm_medium=graph-feature-extraction-deepwalk"
   ]
  },
  {
   "cell_type": "code",
   "execution_count": null,
   "metadata": {},
   "outputs": [],
   "source": []
  }
 ],
 "metadata": {
  "kernelspec": {
   "display_name": "Python 3",
   "language": "python",
   "name": "python3"
  },
  "language_info": {
   "codemirror_mode": {
    "name": "ipython",
    "version": 3
   },
   "file_extension": ".py",
   "mimetype": "text/x-python",
   "name": "python",
   "nbconvert_exporter": "python",
   "pygments_lexer": "ipython3",
   "version": "3.6.10"
  }
 },
 "nbformat": 4,
 "nbformat_minor": 4
}
